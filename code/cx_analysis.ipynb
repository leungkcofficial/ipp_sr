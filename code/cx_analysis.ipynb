{
 "cells": [
  {
   "cell_type": "markdown",
   "metadata": {},
   "source": [
    "### 5 studies investigate difference between patients with high and low IPP\n",
    "### Source:\n",
    "1.  Castellanos LB, Clemente EP, Cabañas CB, Parra DM, Contador MB, Morera JCO, et al. Clinical Relevance of Intraperitoneal Pressure in Peritoneal Dialysis Patients. Peritoneal Dialysis International: Journal of the International Society for Peritoneal Dialysis. 2017;37(5): 562–567. https://doi.org/10.3747/pdi.2016.00267.\n",
    "2.  Dejardin A, Robert A, Goffin E. Intraperitoneal pressure in PD patients: relationship to intraperitoneal volume, body size and PD-related complications. Nephrology Dialysis Transplantation. 2007;22(5): 1437–1444. https://doi.org/10.1093/ndt/gfl745.\n",
    "3.  Outerelo MC, Gouveia R, Teixeira e Costa F, Ramos A. Intraperitoneal pressure has a prognostic impact on peritoneal dialysis patients. Peritoneal Dialysis International: Journal of the International Society for Peritoneal Dialysis. 2014;34(6): 652–654. https://doi.org/10.3747/pdi.2012.00192.\n",
    "4.  Betancourt L, Pico S, Rojas E, Gordo MJ, Oliva JC, Almirall J, et al. Relationship between intraperitoneal pressure and the development of hernias in peritoneal dialysis: confirmation for the first time of a widely accepted concept. International Urology and Nephrology. 2023; https://doi.org/10.1007/s11255-023-03663-5.\n",
    "5.  Aranda RA, Romão Jr. JE, Kakehashi E, Domingos W, Sabbaga E, Marcondes M, et al. Intraperitoneal pressure and hernias in children on peritoneal dialysis. Pediatric Nephrology. 2000;14(1): 0022–0024. https://doi.org/10.1007/s004670050005.\n",
    "\n",
    "\n",
    "### Extractred data:\n",
    "#### 2x2 contingency table\n",
    "| Study ID         | Group      | Yes | No  | Sample size |\n",
    "|------------------|------------|-----|-----|-------------|\n",
    "| Castellanos2017  | High IPP   | 9   | 7   | 16          |\n",
    "|                  | Low IPP    | 8   | 25  | 33          |\n",
    "| Dejardin2007     | High IPP   | 6   | 24  | 30          |\n",
    "|                  | Low IPP    | 8   | 23  | 31          |\n",
    "| Outerelo2014     | High IPP   | 15  | 32  | 47          |\n",
    "|                  | Low IPP    | 2   | 5   | 7           |\n",
    "| Betancourt2023   | High IPP   | 15.02 | 46.94 | 61.96    |\n",
    "|                  | Low IPP    | 7.98 | 54.06 | 62.04    |\n",
    "| Aranda2000       | High IPP   | 5   | 2   | 7           |\n",
    "|                  | Low IPP    | 2   | 5   | 7           |\n",
    "#### Mean and standard deviation of IPP\n",
    "| Study ID         | Group      | IPP mean | IPP SD |\n",
    "|------------------|------------|----------|--------|\n",
    "| Castellanos2017  | High IPP   | 22.29    | 2.62   |\n",
    "|                  | Low IPP    | 18.78    | 2.6    |\n",
    "| Dejardin2007     | High IPP   | 15.7     | 1.7    |\n",
    "|                  | Low IPP    | 10.4     | 2.1    |\n",
    "| Outerelo2014     | High IPP   | NA       | NA     |\n",
    "|                  | Low IPP    | NA       | NA     |\n",
    "| Betancourt2023   | High IPP   | 18.4     | 4.58   |\n",
    "|                  | Low IPP    | 16.2     | 4.52   |\n",
    "| Aranda2000       | High IPP   | 10.9     | 2.6    |\n",
    "|                  | Low IPP    | 8.1      | 2.6    |"
   ]
  },
  {
   "cell_type": "code",
   "execution_count": 2,
   "metadata": {},
   "outputs": [
    {
     "data": {
      "text/plain": [
       "{'Castellanos2017': 4.017857142857143,\n",
       " 'Dejardin2007': 0.71875,\n",
       " 'Outerelo2014': 1.171875,\n",
       " 'Betancourt2023': 2.167704091929867,\n",
       " 'Aranda2000': 6.25}"
      ]
     },
     "execution_count": 2,
     "metadata": {},
     "output_type": "execute_result"
    }
   ],
   "source": [
    "import numpy as np\n",
    "\n",
    "# Data for each study\n",
    "studies = {\n",
    "    \"Castellanos2017\": {\"Yes_High\": 9, \"No_High\": 7, \"Yes_Low\": 8, \"No_Low\": 25},\n",
    "    \"Dejardin2007\": {\"Yes_High\": 6, \"No_High\": 24, \"Yes_Low\": 8, \"No_Low\": 23},\n",
    "    \"Outerelo2014\": {\"Yes_High\": 15, \"No_High\": 32, \"Yes_Low\": 2, \"No_Low\": 5},\n",
    "    \"Betancourt2023\": {\"Yes_High\": 15.02, \"No_High\": 46.94, \"Yes_Low\": 7.98, \"No_Low\": 54.06},\n",
    "    \"Aranda2000\": {\"Yes_High\": 5, \"No_High\": 2, \"Yes_Low\": 2, \"No_Low\": 5}\n",
    "}\n",
    "\n",
    "# Calculate odds ratio for each study\n",
    "odds_ratios = {}\n",
    "\n",
    "for study, data in studies.items():\n",
    "    try:\n",
    "        odds_high = data[\"Yes_High\"] / data[\"No_High\"]\n",
    "        odds_low = data[\"Yes_Low\"] / data[\"No_Low\"]\n",
    "        odds_ratio = odds_high / odds_low\n",
    "    except ZeroDivisionError:\n",
    "        odds_ratio = np.nan  # handle division by zero\n",
    "    odds_ratios[study] = odds_ratio\n",
    "\n",
    "odds_ratios\n"
   ]
  },
  {
   "cell_type": "markdown",
   "metadata": {},
   "source": [
    "### The calculated odds ratios for non-infectious complications between the high and low IPP groups for each study are as follows:\n",
    "\n",
    "- Castellanos2017: 4.02\n",
    "- Dejardin2007: 0.72\n",
    "- Outerelo2014: 1.17\n",
    "- Betancourt2023: 2.17\n",
    "- Aranda2000: 6.25\n"
   ]
  },
  {
   "cell_type": "markdown",
   "metadata": {},
   "source": [
    "### Data synthesis:\n",
    "\n",
    "The DerSimonian and Laird random-effects method is a popular approach to combine study results in a meta-analysis when there's heterogeneity across studies. \n",
    "\n",
    "Given a 2x2 table for each study, the odds ratio (OR) and its variance can be calculated as:\n",
    "\n",
    "$$\n",
    "OR = \\frac{a \\times d}{b \\times c}\n",
    "$$\n",
    "Where:\n",
    "- $a$: Number of \"Yes\" in the High IPP group\n",
    "- $b$: Number of \"No\" in the High IPP group\n",
    "- $c$: Number of \"Yes\" in the Low IPP group\n",
    "- $d$: Number of \"No\" in the Low IPP group\n",
    "\n",
    "The variance of the log(OR) is:\n",
    "\n",
    "$$\n",
    "Var(\\log(OR)) = \\frac{1}{a} + \\frac{1}{b} + \\frac{1}{c} + \\frac{1}{d}\n",
    "$$\n",
    "\n",
    "The weight for each study in the random-effects model is:\n",
    "\n",
    "$$\n",
    "w_i = \\frac{1}{Var(\\log(OR_i)) + \\tau^2}\n",
    "$$\n",
    "Where:\n",
    "- $ \\tau^2 $ is the between-study variance, estimated using the DerSimonian and Laird method.\n",
    "\n",
    "The pooled log odds ratio is:\n",
    "\n",
    "$$\n",
    "\\log(OR_{pooled}) = \\frac{\\sum w_i \\log(OR_i)}{\\sum w_i}\n",
    "$$\n",
    "\n",
    "The variance of the pooled log odds ratio is:\n",
    "\n",
    "$$\n",
    "Var(\\log(OR_{pooled})) = \\frac{1}{\\sum w_i}\n",
    "$$\n"
   ]
  },
  {
   "cell_type": "code",
   "execution_count": 3,
   "metadata": {},
   "outputs": [
    {
     "data": {
      "text/plain": [
       "{'Castellanos2017': {'Effect (log OR)': 1.390748711469271,\n",
       "  '95% CI Lower': 0.12208467223569808,\n",
       "  '95% CI Upper': 2.6594127507028436,\n",
       "  'Weight': 0.21976585293702924},\n",
       " 'Dejardin2007': {'Effect (log OR)': -0.33024168687057687,\n",
       "  '95% CI Lower': -1.5333873223984853,\n",
       "  '95% CI Upper': 0.8729039486573316,\n",
       "  'Weight': 0.2269627758704144},\n",
       " 'Outerelo2014': {'Effect (log OR)': 0.15860503017663857,\n",
       "  '95% CI Lower': -1.5921881234159456,\n",
       "  '95% CI Upper': 1.9093981837692229,\n",
       "  'Weight': 0.17101865963497556},\n",
       " 'Betancourt2023': {'Effect (log OR)': 0.7736685852996954,\n",
       "  '95% CI Lower': -0.16976746733802783,\n",
       "  '95% CI Upper': 1.7171046379374186,\n",
       "  'Weight': 0.25579931045957693},\n",
       " 'Aranda2000': {'Effect (log OR)': 1.8325814637483102,\n",
       "  '95% CI Lower': -0.4865218112267393,\n",
       "  '95% CI Upper': 4.151684738723359,\n",
       "  'Weight': 0.12645340109800376}}"
      ]
     },
     "metadata": {},
     "output_type": "display_data"
    },
    {
     "data": {
      "text/plain": [
       "{'Effect (log OR)': 0.6874509760330485,\n",
       " '95% CI Lower': -1.2725490239669515,\n",
       " '95% CI Upper': 2.6474509760330482,\n",
       " 'I^2': 42.33550686510645,\n",
       " 'p-value of Q': 0.1392726010100328}"
      ]
     },
     "metadata": {},
     "output_type": "display_data"
    },
    {
     "data": {
      "text/plain": [
       "1.988639976172084"
      ]
     },
     "metadata": {},
     "output_type": "display_data"
    },
    {
     "data": {
      "text/plain": [
       "0.2801166868240643"
      ]
     },
     "metadata": {},
     "output_type": "display_data"
    },
    {
     "data": {
      "text/plain": [
       "14.118005605690914"
      ]
     },
     "metadata": {},
     "output_type": "display_data"
    }
   ],
   "source": [
    "import math\n",
    "from scipy.stats import chi2\n",
    "import numpy as np\n",
    "\n",
    "# Function to compute odds ratio and its variance for a study\n",
    "def compute_or_and_var(a, b, c, d):\n",
    "    or_value = (a * d) / (b * c)\n",
    "    var_log_or = (1/a) + (1/b) + (1/c) + (1/d)\n",
    "    return or_value, var_log_or\n",
    "\n",
    "# Extract odds ratios and variances for each study\n",
    "ors = []\n",
    "vars = []\n",
    "for study, data in studies.items():\n",
    "    a = data[\"Yes_High\"]\n",
    "    b = data[\"No_High\"]\n",
    "    c = data[\"Yes_Low\"]\n",
    "    d = data[\"No_Low\"]\n",
    "    or_value, var_log_or = compute_or_and_var(a, b, c, d)\n",
    "    ors.append(math.log(or_value) if or_value > 0 else np.nan)  # taking log(OR)\n",
    "    vars.append(var_log_or)\n",
    "\n",
    "# DerSimonian and Laird method to estimate tau^2\n",
    "q_value = sum([(ors[i] - sum([w * ors[j] for j, w in enumerate(vars)]) / sum(vars)) ** 2 / vars[i] for i in range(len(studies))])\n",
    "df = len(studies) - 1\n",
    "tau2 = (q_value - df) / sum(vars) if q_value > df else 0\n",
    "\n",
    "# Compute random effect weights and normalize them\n",
    "weights = [1 / (vars[i] + tau2) for i in range(len(studies))]\n",
    "total_weight = sum(weights)\n",
    "normalized_weights = [w / total_weight for w in weights]\n",
    "\n",
    "# Pooled log odds ratio and its variance\n",
    "log_or_pooled = sum([normalized_weights[i] * ors[i] for i in range(len(studies))]) / sum(normalized_weights)\n",
    "var_log_or_pooled = 1 / sum(normalized_weights)\n",
    "\n",
    "# I^2 statistic and p-value of Q\n",
    "i2 = max(0, (q_value - df) / q_value) * 100  # Percentage of total variation across studies due to heterogeneity\n",
    "p_value_q = 1 if q_value <= df else (1 - chi2.cdf(q_value, df))\n",
    "\n",
    "# Display results\n",
    "results = {}\n",
    "study_ids = list(studies.keys())\n",
    "for i, study_id in enumerate(study_ids):\n",
    "    results[study_id] = {\n",
    "        \"Effect (log OR)\": ors[i],\n",
    "        \"95% CI Lower\": ors[i] - 1.96 * math.sqrt(vars[i]),\n",
    "        \"95% CI Upper\": ors[i] + 1.96 * math.sqrt(vars[i]),\n",
    "        \"Weight\": normalized_weights[i]\n",
    "    }\n",
    "\n",
    "pooled_results = {\n",
    "    \"Effect (log OR)\": log_or_pooled,\n",
    "    \"95% CI Lower\": log_or_pooled - 1.96 * math.sqrt(var_log_or_pooled),\n",
    "    \"95% CI Upper\": log_or_pooled + 1.96 * math.sqrt(var_log_or_pooled),\n",
    "    \"I^2\": i2,\n",
    "    \"p-value of Q\": p_value_q\n",
    "}\n",
    "\n",
    "display(results, pooled_results)\n",
    "\n",
    "# Convert the log OR of the pooled estimate back to OR\n",
    "pooled_or = math.exp(pooled_results[\"Effect (log OR)\"])\n",
    "# Convert the log OR 95% CI of the pooled estimate back to OR 95% CI\n",
    "pooled_or_lower_limit = math.exp(pooled_results[\"95% CI Lower\"])\n",
    "pooled_or_upper_limit = math.exp(pooled_results[\"95% CI Upper\"])\n",
    "\n",
    "display(pooled_or, pooled_or_lower_limit, pooled_or_upper_limit)\n",
    "\n"
   ]
  },
  {
   "cell_type": "markdown",
   "metadata": {},
   "source": [
    "### Individual Study Results:\n",
    "| Study ID         | Effect (log OR) | 95% CI Lower | 95% CI Upper | Weight     |\n",
    "|------------------|-----------------|--------------|--------------|------------|\n",
    "| Castellanos2017  | 1.39            | 0.12         | 2.66         | 0.2198     |\n",
    "| Dejardin2007     | -0.33           | -1.53        | 0.87         | 0.2270     |\n",
    "| Outerelo2014     | 0.16            | -1.59        | 1.91         | 0.1710     |\n",
    "| Betancourt2023   | 0.77            | -0.17        | 1.72         | 0.2558     |\n",
    "| Aranda2000       | 1.83            | -0.49        | 4.15         | 0.1265     |\n",
    "\n",
    "### Pooled Estimate:\n",
    "- **Effect (log OR)**: 0.69\n",
    "- **95% CI Lower**: -1.27\n",
    "- **95% CI Upper**: 2.65\n",
    "- **I²**: 42.34%\n",
    "- **p-value of Q**: 0.1393\n",
    "\n",
    "When converting the log odds ratio back to the odds ratio:\n",
    "- **Pooled OR**: 1.99\n",
    "- **95% CI for OR**: (0.28, 14.12)"
   ]
  },
  {
   "cell_type": "markdown",
   "metadata": {},
   "source": [
    "### Visualization:"
   ]
  },
  {
   "cell_type": "code",
   "execution_count": 4,
   "metadata": {},
   "outputs": [
    {
     "data": {
      "image/png": "[encoded data removed]",
      "text/plain": [
       "<Figure size 1400x350 with 1 Axes>"
      ]
     },
     "metadata": {},
     "output_type": "display_data"
    }
   ],
   "source": [
    "# Forest plot in the desired style\n",
    "import matplotlib.pyplot as plt\n",
    "\n",
    "study_names_provided = list(results.keys())\n",
    "effects_provided = [results[study][\"Effect (log OR)\"] for study in study_names_provided]\n",
    "lower_bounds_provided = [results[study][\"95% CI Lower\"] for study in study_names_provided]\n",
    "upper_bounds_provided = [results[study][\"95% CI Upper\"] for study in study_names_provided]\n",
    "# Adapting the provided code to visualize the forest plot based on our computed results\n",
    "\n",
    "total_studies = len(results)\n",
    "meta_analysis_results = {\n",
    "    \"Odds Ratio\": {\n",
    "        \"study_ids\": study_names_provided,\n",
    "        \"g_values\": effects_provided,\n",
    "        \"ci_g_values\": {study: [results[study][\"95% CI Lower\"], results[study][\"95% CI Upper\"]] for study in study_names_provided},\n",
    "        \"weights_percent\": [weight * 100 for weight in normalized_weights],\n",
    "        \"g_bar_RE\": pooled_results[\"Effect (log OR)\"],\n",
    "        \"ci_g_bar_RE\": [pooled_results[\"95% CI Lower\"], pooled_results[\"95% CI Upper\"]],\n",
    "        \"I2\": pooled_results[\"I^2\"],\n",
    "        \"p_value_Q\": pooled_results[\"p-value of Q\"]\n",
    "    }\n",
    "}\n",
    "\n",
    "fig, ax = plt.subplots(figsize=(14, total_studies * 0.5 + len(meta_analysis_results)))\n",
    "\n",
    "# Removing the top and right spines (borders)\n",
    "ax.spines['top'].set_visible(False)\n",
    "ax.spines['right'].set_visible(False)\n",
    "\n",
    "# Current y-position marker\n",
    "current_y = total_studies + len(meta_analysis_results)\n",
    "\n",
    "y_ticks = []\n",
    "y_ticklabels = []\n",
    "\n",
    "for var, data in meta_analysis_results.items():\n",
    "    # Extract data for plotting\n",
    "    y_positions = list(range(current_y - 1, current_y - len(data['study_ids']) - 1, -1))\n",
    "    g_values = data['g_values']\n",
    "    ci_low = [g - data['ci_g_values'][study][0] for study, g in zip(data['study_ids'], g_values)]\n",
    "    ci_high = [data['ci_g_values'][study][1] - g for study, g in zip(data['study_ids'], g_values)]\n",
    "    \n",
    "    # Plot using errorbar\n",
    "    ax.errorbar(g_values, y_positions, xerr=[ci_low, ci_high], fmt='o', color='black', capsize=5)\n",
    "    \n",
    "    # Adding labels with g-value, CI, and weight on the right\n",
    "    for y, g, low, high, weight in zip(y_positions, g_values, ci_low, ci_high, data['weights_percent']):\n",
    "        ax.text(5.6, y, f\"{g:.2f} ({g-low:.2f}, {g+high:.2f})\", ha='right', va='center', fontsize=10)\n",
    "        ax.text(6.2, y, f\"{weight:.1f}%\", ha='right', va='center', fontsize=10)\n",
    "    \n",
    "    # Plotting the pooled results\n",
    "    pooled_y = y_positions[-1] - 1\n",
    "    pooled_x = [\n",
    "        data['ci_g_bar_RE'][0],\n",
    "        data['g_bar_RE'],\n",
    "        data['ci_g_bar_RE'][1],\n",
    "        data['g_bar_RE'],\n",
    "        data['ci_g_bar_RE'][0]\n",
    "    ]\n",
    "    pooled_y_values = [\n",
    "        pooled_y + 0.25,\n",
    "        pooled_y,\n",
    "        pooled_y + 0.25,\n",
    "        pooled_y + 0.5,\n",
    "        pooled_y + 0.25\n",
    "    ]\n",
    "    ax.plot(pooled_x, pooled_y_values, 'k-', linewidth=2)\n",
    "    \n",
    "    # Displaying I2 and p-value for the pooled estimate\n",
    "    ax.text(-3.4, pooled_y, f\"I²={data['I2']:.1f}%, p={data['p_value_Q']:.2f}\", ha='right', va='center', fontsize=10)\n",
    "    ax.text(5.6, pooled_y, f\"{data['g_bar_RE']:.2f} ({data['ci_g_bar_RE'][0]:.2f}, {data['ci_g_bar_RE'][1]:.2f})\", ha='right', va='center', fontsize=10)\n",
    "    \n",
    "    # Update the current_y marker and y-ticks\n",
    "    current_y -= (len(data['study_ids']) + 2)\n",
    "    y_ticks.extend(y_positions)\n",
    "    y_ticks.append(pooled_y)\n",
    "    y_ticklabels.extend(data['study_ids'])\n",
    "    y_ticklabels.append(f\"Pooled {var}\")\n",
    "\n",
    "# Setting y-ticks and labels\n",
    "ax.set_yticks(y_ticks)\n",
    "ax.set_yticklabels(y_ticklabels)\n",
    "ax.set_xlabel(\"High IPP is protective   High IPP increase risk\\nLog Odds Ratio\")\n",
    "\n",
    "max_limit = max([g + ci for g, ci in zip(g_values, ci_high)]) + 0.5\n",
    "min_limit = min([g - ci for g, ci in zip(g_values, ci_low)]) - 0.5\n",
    "limit = max(abs(max_limit), abs(min_limit))\n",
    "ax.set_xlim(-limit, limit)\n",
    "# Adding \"Weight:\" at the top\n",
    "ax.text(5.6, total_studies + len(meta_analysis_results), \"Value (95% CI)\", ha='right', va='center', fontsize=10, fontweight='bold')\n",
    "ax.text(6.2, total_studies + len(meta_analysis_results), \"Weight:\", ha='right', va='center', fontsize=10, fontweight='bold')\n",
    "ax.axvline(0, color='black', linestyle='--', linewidth=0.5)\n",
    "\n",
    "plt.tight_layout()\n",
    "plt.savefig('/mnt/d/pydatascience/pd-related trail/eipp_sr/Figure_5_1000dpi.png', dpi=1000)\n",
    "plt.show()\n"
   ]
  }
 ],
 "metadata": {
  "kernelspec": {
   "display_name": "ipp_sr",
   "language": "python",
   "name": "python3"
  },
  "language_info": {
   "codemirror_mode": {
    "name": "ipython",
    "version": 3
   },
   "file_extension": ".py",
   "mimetype": "text/x-python",
   "name": "python",
   "nbconvert_exporter": "python",
   "pygments_lexer": "ipython3",
   "version": "3.11.6"
  },
  "orig_nbformat": 4
 },
 "nbformat": 4,
 "nbformat_minor": 2
}
