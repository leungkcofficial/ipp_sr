{
 "cells": [
  {
   "cell_type": "markdown",
   "metadata": {},
   "source": [
    "### Source:\n",
    "- Aranda RA, Romão Jr. JE, Kakehashi E, Domingos W, Sabbaga E, Marcondes M, et al. Intraperitoneal pressure and hernias in children on peritoneal dialysis. Pediatric Nephrology. 2000;14(1): 0022–0024. https://doi.org/10.1007/s004670050005.\n",
    "\n",
    "### Data extraccted:\n",
    "\n",
    "1. **General IPP Values**:\n",
    "   - Adults: $13.8 \\pm 2.8$ cm H2O.\n",
    "   - Children: $9.5 \\pm 2.9$ cm H2O.\n",
    "     - The difference in IPP between adults and children is statistically significant ($P=0.001$).\n",
    "  \n",
    "2. **Children with Hernias**:\n",
    "   - 14 children were studied.\n",
    "   - 7 of them had hernias:\n",
    "     - 2 males had inguinal hernias (1 had unilateral, 1 had bilateral).\n",
    "     - 1 of the male patients with an inguinal hernia also had a hernia at the Tenckhoff catheter implantation site.\n",
    "     - 5 patients had umbilical hernias. The severity of these hernias varied with the patient's position.\n",
    "\n",
    "3. **Division of Groups**:\n",
    "   - **Group 1 (Without Hernias)**:\n",
    "     - Number of children: 7 (5 females, 2 males).\n",
    "     - Mean Age: $10.4 \\pm 3.6$ years.\n",
    "     - Mean time on CAPD program: $15.5 \\pm 15.6$ months.\n",
    "     - Instilled volume during the test: $1,177 \\pm 161$ ml/m^2.\n",
    "     - IPP: $8.1 \\pm 2.6$ cm H2O.\n",
    "   - **Group 2 (With Hernias)**:\n",
    "     - Number of children: 7 (3 females, 4 males).\n",
    "     - Mean Age: $11.2 \\pm 2.7$ years.\n",
    "     - Mean time on CAPD program: $17.0 \\pm 14.6$ months.\n",
    "     - Instilled volume during the test: $1,244 \\pm 156$ ml/m^2.\n",
    "     - IPP: $10.9 \\pm 2.6$ cm H2O.\n",
    "\n",
    "   The only significant difference between the two groups was in their IPP values ($P=0.03$). Other measures such as age, time on the CAPD program, and instilled volume showed no significant differences.\n",
    "\n",
    "4. **Gender and Hernias**:\n",
    "   - Although there were more males in the group with hernias, the difference in gender distribution between the two groups was not statistically significant ($P=0.5$).\n",
    "\n",
    "### Assumptions:\n",
    "1. Using mean IPP of children: 9.5 cmH2O as the cutoff of 'high' and 'low' IPP\n",
    "2. Nromal distribution of IPP in patients in the 2 groups:\n"
   ]
  },
  {
   "cell_type": "code",
   "execution_count": 2,
   "metadata": {},
   "outputs": [
    {
     "data": {
      "text/plain": [
       "4.9340954203982985"
      ]
     },
     "metadata": {},
     "output_type": "display_data"
    },
    {
     "data": {
      "text/plain": [
       "2.0659045796017015"
      ]
     },
     "metadata": {},
     "output_type": "display_data"
    }
   ],
   "source": [
    "import scipy.stats as stats\n",
    "\n",
    "# Define the variables for Group 1 again\n",
    "mu_1 = 8.1  # mean\n",
    "sigma_1 = 2.6  # standard deviation\n",
    "\n",
    "# Calculate the z-score for 9.5 cm H2O for Group 1\n",
    "z_1 = (9.5 - mu_1) / sigma_1\n",
    "\n",
    "# Determine the proportion of patients in Group 1 with an IPP less than 9.5 cm H2O\n",
    "proportion_below_9_5_group_1 = stats.norm.cdf(z_1)\n",
    "\n",
    "# Calculate the number of patients in Group 1 with IPP less than 9.5 cm H2O\n",
    "num_patients_below_9_5_group_1 = proportion_below_9_5_group_1 * 7\n",
    "display(num_patients_below_9_5_group_1)\n",
    "\n",
    "# Given values for Group 2\n",
    "mu_2 = 10.9  # mean\n",
    "sigma_2 = 2.6  # standard deviation\n",
    "\n",
    "# Calculate the z-score for 9.5 cm H2O\n",
    "z = (9.5 - mu_2) / sigma_2\n",
    "\n",
    "# Determine the proportion of patients with an IPP less than 9.5 cm H2O\n",
    "proportion_below_9_5_group_2 = stats.norm.cdf(z)\n",
    "\n",
    "# Calculate the number of patients in Group 2 with IPP less than 9.5 cm H2O\n",
    "num_patients_below_9_5 = proportion_below_9_5 * 7\n",
    "display(num_patients_below_9_5)\n"
   ]
  },
  {
   "cell_type": "markdown",
   "metadata": {},
   "source": [
    "1. Based on the normal distribution assumption for the IPP values of children in Group 2 (with hernias), approximately 2.07 patients have an IPP less than 9.5 cm H2O.\n",
    "2. In practical terms, this would imply that 2 out of the 7 children in Group 2 (with hernias) have an IPP less than 9.5 cm H2O.\n",
    "3. Based on the normal distribution assumption for the IPP values of children in Group 1 (without hernias), approximately 4.93 patients have an IPP less than 9.5 cm H2O.\n",
    "4. In practical terms, this would imply that 5 out of the 7 children in Group 1 (without hernias) have an IPP less than 9.5 cm H2O."
   ]
  }
 ],
 "metadata": {
  "kernelspec": {
   "display_name": "ipp_sr",
   "language": "python",
   "name": "python3"
  },
  "language_info": {
   "codemirror_mode": {
    "name": "ipython",
    "version": 3
   },
   "file_extension": ".py",
   "mimetype": "text/x-python",
   "name": "python",
   "nbconvert_exporter": "python",
   "pygments_lexer": "ipython3",
   "version": "3.11.6"
  },
  "orig_nbformat": 4
 },
 "nbformat": 4,
 "nbformat_minor": 2
}
