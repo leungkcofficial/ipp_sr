{
 "cells": [
  {
   "cell_type": "markdown",
   "metadata": {},
   "source": [
    "### Source:\n",
    "- Outerelo MC, Gouveia R, Teixeira e Costa F, Ramos A. Intraperitoneal pressure has a prognostic impact on peritoneal dialysis patients. Peritoneal Dialysis International: Journal of the International Society for Peritoneal Dialysis. 2014;34(6): 652–654. https://doi.org/10.3747/pdi.2012.00192.\n",
    "\n",
    "### baseline characteristics extracted\n",
    "- **Total Patients**: 54\n",
    "- **Age**: 58 years (with a standard deviation of 15 years)\n",
    "- **Gender**:\n",
    "  - Men: 37 (69% of the total)\n",
    "- **Diabetes**:\n",
    "  - Patients with diabetes: 14 (26% of the total)\n",
    "- **Duration of PD (Peritoneal Dialysis)**:\n",
    "  - Median: 5.5 months\n",
    "  - Interquartile Range (IQR): 2 to 19.25 months\n",
    "- **Weight**: 68.4 kg (with a standard deviation of 11.4 kg)\n",
    "- **Height**: 165.8 cm (with a standard deviation of 9.1 cm)\n",
    "- **BSA (Body Surface Area)**: 1.75 $ m^2 $ (with a standard deviation of 0.19 $ m^2 $)\n",
    "- **BMI (Body Mass Index)**: 24.7 $ \\frac{kg}{m^2} $ (with a standard deviation of 3.4 $ \\frac{kg}{m^2} $)\n",
    "- **UF volume**: 759 mL (with a standard deviation of 308 mL)\n",
    "- **IPP (Intraperitoneal Pressure)**: 18.8 cmH2O (with a standard deviation of 5.2 cmH2O)\n",
    "\n",
    "In the systematic review, IPP < 13 cmH2O is defined as 'low IPP' as suggested in the discussion part of the study.\n",
    "\n",
    "Assuming a normal distribution:\n",
    "Given:\n",
    "- Mean $ \\mu $ of IPP = 18.8 cmH2O\n",
    "- Standard deviation $ \\sigma $ of IPP = 5.2 cmH2O\n",
    "\n",
    "We need to find:\n",
    "- The z-score for IPP = 13 cmH2O\n",
    "\n",
    "The formula for the z-score is:\n",
    "$$ z = \\frac{x - \\mu}{\\sigma} $$\n",
    "\n",
    "Where:\n",
    "$ x $ = value of interest (in this case, 13 cmH2O)\n",
    "$ \\mu $ = mean\n",
    "$ \\sigma $ = standard deviation"
   ]
  },
  {
   "cell_type": "code",
   "execution_count": 1,
   "metadata": {},
   "outputs": [
    {
     "data": {
      "text/plain": [
       "-1.1153846153846154"
      ]
     },
     "execution_count": 1,
     "metadata": {},
     "output_type": "execute_result"
    }
   ],
   "source": [
    "# Given values\n",
    "mu = 18.8  # Mean of IPP\n",
    "sigma = 5.2  # Standard deviation of IPP\n",
    "x = 13  # Value of interest\n",
    "\n",
    "# Calculate the z-score\n",
    "z_score = (x - mu) / sigma\n",
    "z_score\n"
   ]
  },
  {
   "cell_type": "markdown",
   "metadata": {},
   "source": [
    "Now we have the probability $ P $ that a randomly selected patient has an IPP less than 13 cmH2O using a z-table (standard normal table). \n",
    "\n",
    "Finally, the number of patients with IPP < 13 will be:\n",
    "$$ \\text{Number of patients} = P \\times \\text{Total number of patients} $$"
   ]
  },
  {
   "cell_type": "code",
   "execution_count": 2,
   "metadata": {},
   "outputs": [
    {
     "data": {
      "text/plain": [
       "0.13234281968567535"
      ]
     },
     "execution_count": 2,
     "metadata": {},
     "output_type": "execute_result"
    }
   ],
   "source": [
    "from scipy.stats import norm\n",
    "\n",
    "# Calculate the probability P using the z-score\n",
    "probability = norm.cdf(z_score)\n",
    "probability\n"
   ]
  },
  {
   "cell_type": "markdown",
   "metadata": {},
   "source": [
    "\n",
    "The probability $ P $ that a randomly selected patient has an IPP less than 13 cmH2O is approximately $ 0.1323 $ or $ 13.23\\% $."
   ]
  },
  {
   "cell_type": "code",
   "execution_count": 5,
   "metadata": {},
   "outputs": [
    {
     "data": {
      "text/plain": [
       "7.146512263026469"
      ]
     },
     "execution_count": 5,
     "metadata": {},
     "output_type": "execute_result"
    }
   ],
   "source": [
    "# Total number of patients\n",
    "total_patients = 54\n",
    "\n",
    "# Calculate the number of patients with IPP < 13\n",
    "num_patients_less_than_13 = probability * total_patients\n",
    "\n",
    "num_patients_less_than_13"
   ]
  },
  {
   "cell_type": "markdown",
   "metadata": {},
   "source": [
    "Approximately 7 patients (out of the 54) are expected to have an IPP (Intraperitoneal Pressure) less than 13 cmH2O, assuming a normal distribution of the data."
   ]
  },
  {
   "cell_type": "markdown",
   "metadata": {},
   "source": [
    "Data extraction summary of the mean Intraperitoneal Pressure (IPP) in the presence and absence of complications:\n",
    "\n",
    "- **Abdominal wall hernia**\n",
    "  - Present:\n",
    "    - Mean IPP: $21.1 \\pm 5.8$ cmH2O\n",
    "    - Patients: 11\n",
    "  - Absent:\n",
    "    - Mean IPP: $18.2 \\pm 5.0$ cmH2O\n",
    "    - Patients: 43\n",
    "  - $ p $-value: 0.097\n",
    "\n",
    "- **Hydrothorax**\n",
    "  - Present:\n",
    "    - Mean IPP: $18.5 \\pm 6.5$ cmH2O\n",
    "    - Patients: 3\n",
    "  - Absent:\n",
    "    - Mean IPP: $18.8 \\pm 5.2$ cmH2O\n",
    "    - Patients: 51\n",
    "  - $ p $-value: 0.931\n",
    "\n",
    "- **Gastroesophageal reflux**\n",
    "  - Present:\n",
    "    - Mean IPP: $16.0 \\pm 3.4$ cmH2O\n",
    "    - Patients: 4\n",
    "  - Absent:\n",
    "    - Mean IPP: $19.0 \\pm 5.3$ cmH2O\n",
    "    - Patients: 50\n",
    "  - $ p $-value: 0.271\n",
    "\n",
    "- **TOTAL (Aggregated data for all complications)**\n",
    "  - Present:\n",
    "    - Mean IPP: $19.8 \\pm 5.6$ cmH2O\n",
    "    - Patients: 17\n",
    "  - Absent:\n",
    "    - Mean IPP: $18.3 \\pm 5.0$ cmH2O\n",
    "    - Patients: 37\n",
    "  - $ p $-value: 0.321\n",
    "\n",
    "Still we assume there is normal distribution, we will calculate the z-score and $ P $"
   ]
  },
  {
   "cell_type": "code",
   "execution_count": 6,
   "metadata": {},
   "outputs": [
    {
     "data": {
      "text/plain": [
       "(2, 5)"
      ]
     },
     "execution_count": 6,
     "metadata": {},
     "output_type": "execute_result"
    }
   ],
   "source": [
    "# Given values for TOTAL (Aggregated data for all complications)\n",
    "mu_present = 19.8  # Mean IPP for present group\n",
    "sigma_present = 5.6  # Standard deviation for present group\n",
    "\n",
    "mu_absent = 18.3  # Mean IPP for absent group\n",
    "sigma_absent = 5.0  # Standard deviation for absent group\n",
    "\n",
    "# Calculate the z-scores for IPP = 13 for both present and absent groups\n",
    "z_score_present = (x - mu_present) / sigma_present\n",
    "z_score_absent = (x - mu_absent) / sigma_absent\n",
    "\n",
    "z_score_present, z_score_absent\n",
    "\n",
    "# Calculate the probabilities P for both present and absent groups using the z-scores\n",
    "probability_present = norm.cdf(z_score_present)\n",
    "probability_absent = norm.cdf(z_score_absent)\n",
    "\n",
    "probability_present, probability_absent\n",
    "\n",
    "# Given number of patients for present and absent groups\n",
    "num_present = 17\n",
    "num_absent = 37\n",
    "\n",
    "# Calculate the number of patients with IPP < 13 for both present and absent groups\n",
    "num_present_less_than_13 = probability_present * num_present\n",
    "num_absent_less_than_13 = probability_absent * num_absent\n",
    "\n",
    "# Round the numbers to get an estimate\n",
    "num_present_less_than_13 = round(num_present_less_than_13)\n",
    "num_absent_less_than_13 = round(num_absent_less_than_13)\n",
    "\n",
    "num_present_less_than_13, num_absent_less_than_13\n"
   ]
  },
  {
   "cell_type": "markdown",
   "metadata": {},
   "source": [
    "### Based on the calculations:\n",
    "- For the group with complications present, approximately 2 patients (out of 17) are expected to have an IPP less than 13 cmH2O.\n",
    "- For the group with complications absent, approximately 5 patients (out of 37) are expected to have an IPP less than 13 cmH2O."
   ]
  }
 ],
 "metadata": {
  "kernelspec": {
   "display_name": "ipp_sr",
   "language": "python",
   "name": "python3"
  },
  "language_info": {
   "codemirror_mode": {
    "name": "ipython",
    "version": 3
   },
   "file_extension": ".py",
   "mimetype": "text/x-python",
   "name": "python",
   "nbconvert_exporter": "python",
   "pygments_lexer": "ipython3",
   "version": "3.11.6"
  },
  "orig_nbformat": 4
 },
 "nbformat": 4,
 "nbformat_minor": 2
}
