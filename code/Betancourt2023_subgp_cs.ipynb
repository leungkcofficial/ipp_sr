{
 "cells": [
  {
   "cell_type": "markdown",
   "metadata": {},
   "source": [
    "### Source:\n",
    "- Betancourt L, Pico S, Rojas E, Gordo MJ, Oliva JC, Almirall J, et al. Relationship between intraperitoneal pressure and the development of hernias in peritoneal dialysis: confirmation for the first time of a widely accepted concept. International Urology and Nephrology. 2023; https://doi.org/10.1007/s11255-023-03663-5.\n",
    "\n",
    "The odds ratio is calculated as:\n",
    "\n",
    "$$\n",
    "OR = \\frac{a \\times d}{b \\times c}\n",
    "$$\n",
    "\n",
    "Given the data provided:\n",
    "\n",
    "1. The overall mean IPP supine position for the entire cohort was 16.6.\n",
    "2. From the provided data, 23 patients had hernias."
   ]
  },
  {
   "cell_type": "code",
   "execution_count": 3,
   "metadata": {},
   "outputs": [
    {
     "data": {
      "text/plain": [
       "{'': ['High IPP supine position', 'Low IPP supine position'],\n",
       " 'Hernias': [15.015437235671369, 7.984562764328631],\n",
       " 'No Hernias': [46.93888145074807, 54.06111854925193]}"
      ]
     },
     "metadata": {},
     "output_type": "display_data"
    },
    {
     "data": {
      "text/plain": [
       "2.1659036585477387"
      ]
     },
     "execution_count": 3,
     "metadata": {},
     "output_type": "execute_result"
    }
   ],
   "source": [
    "from scipy.stats import norm\n",
    "# Given data\n",
    "mean_with_hernias = 18.4\n",
    "std_dev_with_hernias = 4.58\n",
    "mean_without_hernias = 16.2\n",
    "std_dev_without_hernias = 4.52\n",
    "\n",
    "# Total number of patients with and without hernias\n",
    "patients_with_hernias = 23\n",
    "patients_without_hernias = 101\n",
    "\n",
    "# Threshold for high IPP supine position\n",
    "threshold = 16.6\n",
    "\n",
    "# Estimate the number of patients with \"high\" IPP supine position in each group\n",
    "high_IPP_with_hernias = patients_with_hernias * (1 - norm.cdf((threshold - mean_with_hernias) / std_dev_with_hernias))\n",
    "high_IPP_without_hernias = patients_without_hernias * (1 - norm.cdf((threshold - mean_without_hernias) / std_dev_without_hernias))\n",
    "\n",
    "# Estimate the number of patients with \"low\" IPP supine position in each group\n",
    "low_IPP_with_hernias = patients_with_hernias - high_IPP_with_hernias\n",
    "low_IPP_without_hernias = patients_without_hernias - high_IPP_without_hernias\n",
    "\n",
    "# Create the 2x2 contingency table\n",
    "contingency_table = {\n",
    "    '': ['High IPP supine position', 'Low IPP supine position'],\n",
    "    'Hernias': [high_IPP_with_hernias, low_IPP_with_hernias],\n",
    "    'No Hernias': [high_IPP_without_hernias, low_IPP_without_hernias]\n",
    "}\n",
    "\n",
    "display(contingency_table)\n",
    "\n",
    "# Calculate odds ratio\n",
    "OR = (high_IPP_with_hernias * low_IPP_without_hernias) / (low_IPP_with_hernias * high_IPP_without_hernias)\n",
    "OR\n"
   ]
  },
  {
   "cell_type": "markdown",
   "metadata": {},
   "source": [
    "The estimated odds ratio (OR) for developing hernias based on the IPP supine position, using the threshold of 16.6, is approximately $2.17$. "
   ]
  }
 ],
 "metadata": {
  "kernelspec": {
   "display_name": "ipp_sr",
   "language": "python",
   "name": "python3"
  },
  "language_info": {
   "codemirror_mode": {
    "name": "ipython",
    "version": 3
   },
   "file_extension": ".py",
   "mimetype": "text/x-python",
   "name": "python",
   "nbconvert_exporter": "python",
   "pygments_lexer": "ipython3",
   "version": "3.11.6"
  },
  "orig_nbformat": 4
 },
 "nbformat": 4,
 "nbformat_minor": 2
}
