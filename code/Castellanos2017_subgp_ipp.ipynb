{
 "cells": [
  {
   "cell_type": "markdown",
   "metadata": {},
   "source": [
    "## Reference:\n",
    "- Castellanos LB, Clemente EP, Cabañas CB, Parra DM, Contador MB, Morera JCO, et al. Clinical Relevance of Intraperitoneal Pressure in Peritoneal Dialysis Patients. Peritoneal Dialysis International: Journal of the International Society for Peritoneal Dialysis. 2017;37(5): 562–567. https://doi.org/10.3747/pdi.2016.00267.\n",
    "\n",
    "## Multiple regression model\n",
    "In the study, a multiple regression model was developed to determine intraperitoneal pressure (IPP) with the following features:\n",
    "\n",
    "| Variable       | B     | Standard Error | P      |\n",
    "|----------------|-------|----------------|--------|\n",
    "| Constant       | 5.820 | 2.507          | 0.025  |\n",
    "| BMI            | 0.462 | 0.089          | 0.0005 |\n",
    "| Charlson       | 0.387 | 0.140          | 0.009  |\n",
    "| Months of PD   | -0.096| 0.030          | 0.003  |\n",
    "| Daily usual UF | -0.002| 0.001          | 0.044  |\n",
    "\n",
    "## Features of subgroup\n",
    "In the study, there are 2 subgroups developed: high IPP and low IPP\n",
    "\n",
    "| Variables      | High IPP   |       | Low IPP    |       |\n",
    "|----------------|------------|-------|------------|-------|\n",
    "|                | Mean       | SD    | Mean       | SD    |\n",
    "|----------------|------------|-------|------------|-------|\n",
    "| Sample size    | 16         | -     | 33         | -     |\n",
    "| BMI            | 31.67      | 6.1   | 25.9       | 3.4   |\n",
    "| BSA            | 1.92       | 0.2   | 1.78       | 0.2   |\n",
    "| IPV            | 2167       | 466   | 2180       | 271   |\n",
    "| Charlson       | 8.18       | 2.9   | 7.5        | 3.6   |\n",
    "| Months on PD   | 12.24      | 9.7   | 19.19      | 15.4  |\n",
    "| Daily usual UF | 662.5      | 345   | 954        | 379   |\n"
   ]
  },
  {
   "cell_type": "code",
   "execution_count": 1,
   "metadata": {},
   "outputs": [],
   "source": [
    "# Given regression coefficients and standard errors\n",
    "coefficients = {\n",
    "    \"constant\": 5.820,\n",
    "    \"BMI\": 0.462,\n",
    "    \"Charlson\": 0.387,\n",
    "    \"Months of PD\": -0.096,\n",
    "    \"Daily usual UF\": -0.002\n",
    "}\n",
    "\n",
    "standard_errors = {\n",
    "    \"constant\": 2.507,\n",
    "    \"BMI\": 0.089,\n",
    "    \"Charlson\": 0.140,\n",
    "    \"Months of PD\": 0.030,\n",
    "    \"Daily usual UF\": 0.001\n",
    "}\n",
    "\n",
    "# Given group data\n",
    "groups = {\n",
    "    \"high_IPP\": {\n",
    "        \"BMI\": (31.67, 6.1),\n",
    "        \"Charlson\": (8.18, 2.9),\n",
    "        \"Months on PD\": (12.24, 9.7),\n",
    "        \"Daily usual UF\": (662.5, 345)\n",
    "    },\n",
    "    \"low_IPP\": {\n",
    "        \"BMI\": (25.9, 3.4),\n",
    "        \"Charlson\": (7.5, 3.6),\n",
    "        \"Months on PD\": (19.19, 15.4),\n",
    "        \"Daily usual UF\": (954, 379)\n",
    "    }\n",
    "}"
   ]
  },
  {
   "cell_type": "markdown",
   "metadata": {},
   "source": [
    "## Intraperitoneal Pressure Calculation\n",
    "\n",
    "Given the multiple regression model for intraperitoneal pressure:\n",
    "\n",
    "$$\n",
    "\\text{Intraperitoneal Pressure} = \\text{Constant} + (\\text{BMI} \\times B_{\\text{BMI}}) + (\\text{Charlson} \\times B_{\\text{Charlson}}) + (\\text{Months of PD} \\times B_{\\text{Months of PD}}) + (\\text{Daily usual UF} \\times B_{\\text{Daily usual UF}})\n",
    "$$\n",
    "\n",
    "Where:\n",
    "$$ B_{BMI}, B_{Charlson}, B_{\\text{Months of PD}}, \\text{and} \\ B_{\\text{Daily usual UF}} \\text{are the regression coefficients for the respective variables.} $$\n",
    "\n",
    "The formula for the standard error of the prediction for a given observation in a multiple regression is:\n",
    "$$\n",
    "SE_{\\text{prediction}} = \\sqrt{ \\left( SE_{\\text{Constant}}^2 \\right) + \\left( \\text{BMI}^2 \\times SE_{\\text{BMI}}^2 \\right) + \\left( \\text{Charlson}^2 \\times SE_{\\text{Charlson}}^2 \\right) + \\left( \\text{Months of PD}^2 \\times SE_{\\text{Months of PD}}^2 \\right) + \\left( \\text{Daily usual UF}^2 \\times SE_{\\text{Daily usual UF}}^2 \\right) }\n",
    "$$\n",
    "\n",
    "Where:\n",
    "$$ SE_{\\text{Constant}}, SE_{\\text{BMI}}, SE_{\\text{Charlson}}, SE_{\\text{Months of PD}}, \\text{and} \\ SE_{\\text{Daily usual UF}} \\text{are the standard errors for the respective coefficients.} $$\n",
    "\n"
   ]
  },
  {
   "cell_type": "code",
   "execution_count": 2,
   "metadata": {},
   "outputs": [
    {
     "data": {
      "text/plain": [
       "{'high_IPP': {'mean': 22.2922, 'std_deviation': 2.6198569445677755},\n",
       " 'low_IPP': {'mean': 18.7803, 'std_deviation': 2.602743314274383}}"
      ]
     },
     "execution_count": 2,
     "metadata": {},
     "output_type": "execute_result"
    }
   ],
   "source": [
    "# Calculating mean and standard deviation of intraperitoneal pressure for both groups\n",
    "results = {}\n",
    "\n",
    "for group, data in groups.items():\n",
    "    # Calculating mean intraperitoneal pressure using the regression model\n",
    "    mean_pressure = coefficients[\"constant\"]\n",
    "    for variable, value in data.items():\n",
    "        if variable in coefficients:\n",
    "            mean_pressure += value[0] * coefficients[variable]\n",
    "    \n",
    "    # Calculating standard error of prediction\n",
    "    se_prediction = standard_errors[\"constant\"]**2\n",
    "    for variable, value in data.items():\n",
    "        if variable in coefficients:\n",
    "            se_prediction += (value[1]**2) * (standard_errors[variable]**2)\n",
    "    std_deviation = se_prediction**0.5\n",
    "    \n",
    "    results[group] = {\n",
    "        \"mean\": mean_pressure,\n",
    "        \"std_deviation\": std_deviation\n",
    "    }\n",
    "\n",
    "results"
   ]
  },
  {
   "cell_type": "markdown",
   "metadata": {},
   "source": [
    "## Assumptions\n",
    "- The calculated standard deviations are based on the standard errors of the regression coefficients and the variability in the predictors. It doesn't account for the variability in the residuals from the regression model."
   ]
  }
 ],
 "metadata": {
  "kernelspec": {
   "display_name": "ipp_sr",
   "language": "python",
   "name": "python3"
  },
  "language_info": {
   "codemirror_mode": {
    "name": "ipython",
    "version": 3
   },
   "file_extension": ".py",
   "mimetype": "text/x-python",
   "name": "python",
   "nbconvert_exporter": "python",
   "pygments_lexer": "ipython3",
   "version": "3.11.6"
  },
  "orig_nbformat": 4
 },
 "nbformat": 4,
 "nbformat_minor": 2
}
